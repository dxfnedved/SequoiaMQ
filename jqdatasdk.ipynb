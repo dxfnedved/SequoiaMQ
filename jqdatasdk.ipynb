{
 "cells": [
  {
   "cell_type": "code",
   "execution_count": 1,
   "id": "10c46b3b-8935-4038-b2af-6610e4b619ae",
   "metadata": {},
   "outputs": [
    {
     "name": "stdout",
     "output_type": "stream",
     "text": [
      "auth success \n",
      "{'total': 1000000, 'spare': 1000000}\n",
      "{'mob': '17720545590', 'query_count_limit': 1000000, 'license': 1, 'expire_time': '2025-03-20 00:00:00', 'date_range_start': '2023-09-11 00:00:00', 'date_range_end': '2024-09-17 00:00:00'}\n"
     ]
    }
   ],
   "source": [
    "from jqdatasdk import *\n",
    "\n",
    "auth('17720545590', '54217-HYYdxf')\n",
    "print(get_query_count()) \n",
    "infos = get_account_info()\n",
    "print(infos)"
   ]
  }
 ],
 "metadata": {
  "kernelspec": {
   "display_name": "Python 3 (ipykernel)",
   "language": "python",
   "name": "python3"
  },
  "language_info": {
   "codemirror_mode": {
    "name": "ipython",
    "version": 3
   },
   "file_extension": ".py",
   "mimetype": "text/x-python",
   "name": "python",
   "nbconvert_exporter": "python",
   "pygments_lexer": "ipython3",
   "version": "3.13.0"
  }
 },
 "nbformat": 4,
 "nbformat_minor": 5
}
